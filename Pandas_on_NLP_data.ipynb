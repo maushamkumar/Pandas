{
  "nbformat": 4,
  "nbformat_minor": 0,
  "metadata": {
    "colab": {
      "provenance": [],
      "authorship_tag": "ABX9TyPoUbDT0DOdusS5+muwshu4",
      "include_colab_link": true
    },
    "kernelspec": {
      "name": "python3",
      "display_name": "Python 3"
    },
    "language_info": {
      "name": "python"
    }
  },
  "cells": [
    {
      "cell_type": "markdown",
      "metadata": {
        "id": "view-in-github",
        "colab_type": "text"
      },
      "source": [
        "<a href=\"https://colab.research.google.com/github/maushamkumar/Pandas/blob/main/Pandas_on_NLP_data.ipynb\" target=\"_parent\"><img src=\"https://colab.research.google.com/assets/colab-badge.svg\" alt=\"Open In Colab\"/></a>"
      ]
    },
    {
      "cell_type": "code",
      "execution_count": null,
      "metadata": {
        "colab": {
          "base_uri": "https://localhost:8080/"
        },
        "id": "m7M1CTfWG4tN",
        "outputId": "75b7ccf2-6250-44c2-b617-9ab2766c5d8a"
      },
      "outputs": [
        {
          "output_type": "stream",
          "name": "stdout",
          "text": [
            "cp: cannot stat 'kaggle.json': No such file or directory\n",
            "Dataset URL: https://www.kaggle.com/datasets/lakshmi25npathi/imdb-dataset-of-50k-movie-reviews\n",
            "License(s): other\n",
            "Downloading imdb-dataset-of-50k-movie-reviews.zip to /content\n",
            " 93% 24.0M/25.7M [00:02<00:00, 20.9MB/s]\n",
            "100% 25.7M/25.7M [00:02<00:00, 12.2MB/s]\n"
          ]
        }
      ],
      "source": [
        "!mkdir -p ./kaggle\n",
        "!cp kaggle.json ~/.kaggle/\n",
        "\n",
        "!kaggle datasets download -d lakshmi25npathi/imdb-dataset-of-50k-movie-reviews\n",
        "\n",
        "\n",
        "\n"
      ]
    },
    {
      "cell_type": "code",
      "source": [
        "# kaggle datasets download -d lakshmi25npathi/imdb-dataset-of-50k-movie-reviews"
      ],
      "metadata": {
        "id": "AUj4Gt-mG-Qx"
      },
      "execution_count": null,
      "outputs": []
    },
    {
      "cell_type": "code",
      "source": [
        "!unzip /content/imdb-dataset-of-50k-movie-reviews.zip -d /content/\n",
        "\n"
      ],
      "metadata": {
        "colab": {
          "base_uri": "https://localhost:8080/"
        },
        "id": "Cju41FGpHF2R",
        "outputId": "7f23f451-af4d-416a-d089-06f5c533b2f8"
      },
      "execution_count": null,
      "outputs": [
        {
          "output_type": "stream",
          "name": "stdout",
          "text": [
            "Archive:  /content/imdb-dataset-of-50k-movie-reviews.zip\n",
            "  inflating: /content/IMDB Dataset.csv  \n"
          ]
        }
      ]
    },
    {
      "cell_type": "code",
      "source": [
        "import pandas as pd\n",
        "\n",
        "df = pd.read_csv('/content/IMDB Dataset.csv', encoding='latin1')\n",
        "df.head()"
      ],
      "metadata": {
        "colab": {
          "base_uri": "https://localhost:8080/",
          "height": 206
        },
        "id": "enyo2Go6HAC6",
        "outputId": "f882ad93-2100-4a0a-e89e-a7a49eb7d572"
      },
      "execution_count": null,
      "outputs": [
        {
          "output_type": "execute_result",
          "data": {
            "text/plain": [
              "                                              review sentiment\n",
              "0  One of the other reviewers has mentioned that ...  positive\n",
              "1  A wonderful little production. <br /><br />The...  positive\n",
              "2  I thought this was a wonderful way to spend ti...  positive\n",
              "3  Basically there's a family where a little boy ...  negative\n",
              "4  Petter Mattei's \"Love in the Time of Money\" is...  positive"
            ],
            "text/html": [
              "\n",
              "  <div id=\"df-93f14ed2-16a7-4062-8f9b-d4db4fc9ad0c\" class=\"colab-df-container\">\n",
              "    <div>\n",
              "<style scoped>\n",
              "    .dataframe tbody tr th:only-of-type {\n",
              "        vertical-align: middle;\n",
              "    }\n",
              "\n",
              "    .dataframe tbody tr th {\n",
              "        vertical-align: top;\n",
              "    }\n",
              "\n",
              "    .dataframe thead th {\n",
              "        text-align: right;\n",
              "    }\n",
              "</style>\n",
              "<table border=\"1\" class=\"dataframe\">\n",
              "  <thead>\n",
              "    <tr style=\"text-align: right;\">\n",
              "      <th></th>\n",
              "      <th>review</th>\n",
              "      <th>sentiment</th>\n",
              "    </tr>\n",
              "  </thead>\n",
              "  <tbody>\n",
              "    <tr>\n",
              "      <th>0</th>\n",
              "      <td>One of the other reviewers has mentioned that ...</td>\n",
              "      <td>positive</td>\n",
              "    </tr>\n",
              "    <tr>\n",
              "      <th>1</th>\n",
              "      <td>A wonderful little production. &lt;br /&gt;&lt;br /&gt;The...</td>\n",
              "      <td>positive</td>\n",
              "    </tr>\n",
              "    <tr>\n",
              "      <th>2</th>\n",
              "      <td>I thought this was a wonderful way to spend ti...</td>\n",
              "      <td>positive</td>\n",
              "    </tr>\n",
              "    <tr>\n",
              "      <th>3</th>\n",
              "      <td>Basically there's a family where a little boy ...</td>\n",
              "      <td>negative</td>\n",
              "    </tr>\n",
              "    <tr>\n",
              "      <th>4</th>\n",
              "      <td>Petter Mattei's \"Love in the Time of Money\" is...</td>\n",
              "      <td>positive</td>\n",
              "    </tr>\n",
              "  </tbody>\n",
              "</table>\n",
              "</div>\n",
              "    <div class=\"colab-df-buttons\">\n",
              "\n",
              "  <div class=\"colab-df-container\">\n",
              "    <button class=\"colab-df-convert\" onclick=\"convertToInteractive('df-93f14ed2-16a7-4062-8f9b-d4db4fc9ad0c')\"\n",
              "            title=\"Convert this dataframe to an interactive table.\"\n",
              "            style=\"display:none;\">\n",
              "\n",
              "  <svg xmlns=\"http://www.w3.org/2000/svg\" height=\"24px\" viewBox=\"0 -960 960 960\">\n",
              "    <path d=\"M120-120v-720h720v720H120Zm60-500h600v-160H180v160Zm220 220h160v-160H400v160Zm0 220h160v-160H400v160ZM180-400h160v-160H180v160Zm440 0h160v-160H620v160ZM180-180h160v-160H180v160Zm440 0h160v-160H620v160Z\"/>\n",
              "  </svg>\n",
              "    </button>\n",
              "\n",
              "  <style>\n",
              "    .colab-df-container {\n",
              "      display:flex;\n",
              "      gap: 12px;\n",
              "    }\n",
              "\n",
              "    .colab-df-convert {\n",
              "      background-color: #E8F0FE;\n",
              "      border: none;\n",
              "      border-radius: 50%;\n",
              "      cursor: pointer;\n",
              "      display: none;\n",
              "      fill: #1967D2;\n",
              "      height: 32px;\n",
              "      padding: 0 0 0 0;\n",
              "      width: 32px;\n",
              "    }\n",
              "\n",
              "    .colab-df-convert:hover {\n",
              "      background-color: #E2EBFA;\n",
              "      box-shadow: 0px 1px 2px rgba(60, 64, 67, 0.3), 0px 1px 3px 1px rgba(60, 64, 67, 0.15);\n",
              "      fill: #174EA6;\n",
              "    }\n",
              "\n",
              "    .colab-df-buttons div {\n",
              "      margin-bottom: 4px;\n",
              "    }\n",
              "\n",
              "    [theme=dark] .colab-df-convert {\n",
              "      background-color: #3B4455;\n",
              "      fill: #D2E3FC;\n",
              "    }\n",
              "\n",
              "    [theme=dark] .colab-df-convert:hover {\n",
              "      background-color: #434B5C;\n",
              "      box-shadow: 0px 1px 3px 1px rgba(0, 0, 0, 0.15);\n",
              "      filter: drop-shadow(0px 1px 2px rgba(0, 0, 0, 0.3));\n",
              "      fill: #FFFFFF;\n",
              "    }\n",
              "  </style>\n",
              "\n",
              "    <script>\n",
              "      const buttonEl =\n",
              "        document.querySelector('#df-93f14ed2-16a7-4062-8f9b-d4db4fc9ad0c button.colab-df-convert');\n",
              "      buttonEl.style.display =\n",
              "        google.colab.kernel.accessAllowed ? 'block' : 'none';\n",
              "\n",
              "      async function convertToInteractive(key) {\n",
              "        const element = document.querySelector('#df-93f14ed2-16a7-4062-8f9b-d4db4fc9ad0c');\n",
              "        const dataTable =\n",
              "          await google.colab.kernel.invokeFunction('convertToInteractive',\n",
              "                                                    [key], {});\n",
              "        if (!dataTable) return;\n",
              "\n",
              "        const docLinkHtml = 'Like what you see? Visit the ' +\n",
              "          '<a target=\"_blank\" href=https://colab.research.google.com/notebooks/data_table.ipynb>data table notebook</a>'\n",
              "          + ' to learn more about interactive tables.';\n",
              "        element.innerHTML = '';\n",
              "        dataTable['output_type'] = 'display_data';\n",
              "        await google.colab.output.renderOutput(dataTable, element);\n",
              "        const docLink = document.createElement('div');\n",
              "        docLink.innerHTML = docLinkHtml;\n",
              "        element.appendChild(docLink);\n",
              "      }\n",
              "    </script>\n",
              "  </div>\n",
              "\n",
              "\n",
              "<div id=\"df-72f70200-648d-46f4-ab15-b4aa7744259c\">\n",
              "  <button class=\"colab-df-quickchart\" onclick=\"quickchart('df-72f70200-648d-46f4-ab15-b4aa7744259c')\"\n",
              "            title=\"Suggest charts\"\n",
              "            style=\"display:none;\">\n",
              "\n",
              "<svg xmlns=\"http://www.w3.org/2000/svg\" height=\"24px\"viewBox=\"0 0 24 24\"\n",
              "     width=\"24px\">\n",
              "    <g>\n",
              "        <path d=\"M19 3H5c-1.1 0-2 .9-2 2v14c0 1.1.9 2 2 2h14c1.1 0 2-.9 2-2V5c0-1.1-.9-2-2-2zM9 17H7v-7h2v7zm4 0h-2V7h2v10zm4 0h-2v-4h2v4z\"/>\n",
              "    </g>\n",
              "</svg>\n",
              "  </button>\n",
              "\n",
              "<style>\n",
              "  .colab-df-quickchart {\n",
              "      --bg-color: #E8F0FE;\n",
              "      --fill-color: #1967D2;\n",
              "      --hover-bg-color: #E2EBFA;\n",
              "      --hover-fill-color: #174EA6;\n",
              "      --disabled-fill-color: #AAA;\n",
              "      --disabled-bg-color: #DDD;\n",
              "  }\n",
              "\n",
              "  [theme=dark] .colab-df-quickchart {\n",
              "      --bg-color: #3B4455;\n",
              "      --fill-color: #D2E3FC;\n",
              "      --hover-bg-color: #434B5C;\n",
              "      --hover-fill-color: #FFFFFF;\n",
              "      --disabled-bg-color: #3B4455;\n",
              "      --disabled-fill-color: #666;\n",
              "  }\n",
              "\n",
              "  .colab-df-quickchart {\n",
              "    background-color: var(--bg-color);\n",
              "    border: none;\n",
              "    border-radius: 50%;\n",
              "    cursor: pointer;\n",
              "    display: none;\n",
              "    fill: var(--fill-color);\n",
              "    height: 32px;\n",
              "    padding: 0;\n",
              "    width: 32px;\n",
              "  }\n",
              "\n",
              "  .colab-df-quickchart:hover {\n",
              "    background-color: var(--hover-bg-color);\n",
              "    box-shadow: 0 1px 2px rgba(60, 64, 67, 0.3), 0 1px 3px 1px rgba(60, 64, 67, 0.15);\n",
              "    fill: var(--button-hover-fill-color);\n",
              "  }\n",
              "\n",
              "  .colab-df-quickchart-complete:disabled,\n",
              "  .colab-df-quickchart-complete:disabled:hover {\n",
              "    background-color: var(--disabled-bg-color);\n",
              "    fill: var(--disabled-fill-color);\n",
              "    box-shadow: none;\n",
              "  }\n",
              "\n",
              "  .colab-df-spinner {\n",
              "    border: 2px solid var(--fill-color);\n",
              "    border-color: transparent;\n",
              "    border-bottom-color: var(--fill-color);\n",
              "    animation:\n",
              "      spin 1s steps(1) infinite;\n",
              "  }\n",
              "\n",
              "  @keyframes spin {\n",
              "    0% {\n",
              "      border-color: transparent;\n",
              "      border-bottom-color: var(--fill-color);\n",
              "      border-left-color: var(--fill-color);\n",
              "    }\n",
              "    20% {\n",
              "      border-color: transparent;\n",
              "      border-left-color: var(--fill-color);\n",
              "      border-top-color: var(--fill-color);\n",
              "    }\n",
              "    30% {\n",
              "      border-color: transparent;\n",
              "      border-left-color: var(--fill-color);\n",
              "      border-top-color: var(--fill-color);\n",
              "      border-right-color: var(--fill-color);\n",
              "    }\n",
              "    40% {\n",
              "      border-color: transparent;\n",
              "      border-right-color: var(--fill-color);\n",
              "      border-top-color: var(--fill-color);\n",
              "    }\n",
              "    60% {\n",
              "      border-color: transparent;\n",
              "      border-right-color: var(--fill-color);\n",
              "    }\n",
              "    80% {\n",
              "      border-color: transparent;\n",
              "      border-right-color: var(--fill-color);\n",
              "      border-bottom-color: var(--fill-color);\n",
              "    }\n",
              "    90% {\n",
              "      border-color: transparent;\n",
              "      border-bottom-color: var(--fill-color);\n",
              "    }\n",
              "  }\n",
              "</style>\n",
              "\n",
              "  <script>\n",
              "    async function quickchart(key) {\n",
              "      const quickchartButtonEl =\n",
              "        document.querySelector('#' + key + ' button');\n",
              "      quickchartButtonEl.disabled = true;  // To prevent multiple clicks.\n",
              "      quickchartButtonEl.classList.add('colab-df-spinner');\n",
              "      try {\n",
              "        const charts = await google.colab.kernel.invokeFunction(\n",
              "            'suggestCharts', [key], {});\n",
              "      } catch (error) {\n",
              "        console.error('Error during call to suggestCharts:', error);\n",
              "      }\n",
              "      quickchartButtonEl.classList.remove('colab-df-spinner');\n",
              "      quickchartButtonEl.classList.add('colab-df-quickchart-complete');\n",
              "    }\n",
              "    (() => {\n",
              "      let quickchartButtonEl =\n",
              "        document.querySelector('#df-72f70200-648d-46f4-ab15-b4aa7744259c button');\n",
              "      quickchartButtonEl.style.display =\n",
              "        google.colab.kernel.accessAllowed ? 'block' : 'none';\n",
              "    })();\n",
              "  </script>\n",
              "</div>\n",
              "\n",
              "    </div>\n",
              "  </div>\n"
            ],
            "application/vnd.google.colaboratory.intrinsic+json": {
              "type": "dataframe",
              "variable_name": "df",
              "summary": "{\n  \"name\": \"df\",\n  \"rows\": 50000,\n  \"fields\": [\n    {\n      \"column\": \"review\",\n      \"properties\": {\n        \"dtype\": \"string\",\n        \"num_unique_values\": 49582,\n        \"samples\": [\n          \"\\\"Soul Plane\\\" is a horrible attempt at comedy that only should appeal people with thick skulls, bloodshot eyes and furry pawns. <br /><br />The plot is not only incoherent but also non-existent, acting is mostly sub sub-par with a gang of highly moronic and dreadful characters thrown in for bad measure, jokes are often spotted miles ahead and almost never even a bit amusing. This movie lacks any structure and is full of racial stereotypes that must have seemed old even in the fifties, the only thing it really has going for it is some pretty ladies, but really, if you want that you can rent something from the \\\"Adult\\\" section. OK?<br /><br />I can hardly see anything here to recommend since you'll probably have a lot a better and productive time chasing rats with a sledgehammer or inventing waterproof teabags or whatever.<br /><br />2/10\",\n          \"Guest from the Future tells a fascinating story of time travel, friendship, battle of good and evil -- all with a small budget, child actors, and few special effects. Something for Spielberg and Lucas to learn from. ;) A sixth-grader Kolya \\\"Nick\\\" Gerasimov finds a time machine in the basement of a decrepit building and travels 100 years into the future. He discovers a near-perfect, utopian society where robots play guitars and write poetry, everyone is kind to each other and people enjoy everything technology has to offer. Alice is the daughter of a prominent scientist who invented a device called Mielophone that allows to read minds of humans and animals. The device can be put to both good and bad use, depending on whose hands it falls into. When two evil space pirates from Saturn who want to rule the universe attempt to steal Mielophone, it falls into the hands of 20th century school boy Nick. With the pirates hot on his tracks, he travels back to his time, followed by the pirates, and Alice. Chaos, confusion and funny situations follow as the luckless pirates try to blend in with the earthlings. Alice enrolls in the same school Nick goes to and demonstrates superhuman abilities in PE class. The catch is, Alice doesn't know what Nick looks like, while the pirates do. Also, the pirates are able to change their appearance and turn literally into anyone. (Hmm, I wonder if this is where James Cameron got the idea for Terminator...) Who gets to Nick -- and Mielophone -- first? Excellent plot, non-stop adventures, and great soundtrack. I wish Hollywood made kid movies like this one...\",\n          \"\\\"National Treasure\\\" (2004) is a thoroughly misguided hodge-podge of plot entanglements that borrow from nearly every cloak and dagger government conspiracy clich\\u00c3\\u00a9 that has ever been written. The film stars Nicholas Cage as Benjamin Franklin Gates (how precious is that, I ask you?); a seemingly normal fellow who, for no other reason than being of a lineage of like-minded misguided fortune hunters, decides to steal a 'national treasure' that has been hidden by the United States founding fathers. After a bit of subtext and background that plays laughably (unintentionally) like Indiana Jones meets The Patriot, the film degenerates into one misguided whimsy after another \\u00c2\\u0096 attempting to create a 'Stanley Goodspeed' regurgitation of Nicholas Cage and launch the whole convoluted mess forward with a series of high octane, but disconnected misadventures.<br /><br />The relevancy and logic to having George Washington and his motley crew of patriots burying a king's ransom someplace on native soil, and then, going through the meticulous plan of leaving clues scattered throughout U.S. currency art work, is something that director Jon Turteltaub never quite gets around to explaining. Couldn't Washington found better usage for such wealth during the start up of the country? Hence, we are left with a mystery built on top of an enigma that is already on shaky ground by the time Ben appoints himself the new custodian of this untold wealth. Ben's intentions are noble \\u00c2\\u0096 if confusing. He's set on protecting the treasure. For who and when?\\u00c2\\u0085your guess is as good as mine.<br /><br />But there are a few problems with Ben's crusade. First up, his friend, Ian Holmes (Sean Bean) decides that he can't wait for Ben to make up his mind about stealing the Declaration of Independence from the National Archives (oh, yeah \\u00c2\\u0096 brilliant idea!). Presumably, the back of that famous document holds the secret answer to the ultimate fortune. So Ian tries to kill Ben. The assassination attempt is, of course, unsuccessful, if overly melodramatic. It also affords Ben the opportunity to pick up, and pick on, the very sultry curator of the archives, Abigail Chase (Diane Kruger). She thinks Ben is clearly a nut \\u00c2\\u0096 at least at the beginning. But true to action/romance form, Abby's resolve melts quicker than you can say, \\\"is that the Hope Diamond?\\\" The film moves into full X-File-ish mode, as the FBI, mistakenly believing that Ben is behind the theft, retaliate in various benign ways that lead to a multi-layering of action sequences reminiscent of Mission Impossible meets The Fugitive. Honestly, don't those guys ever get 'intelligence' information that is correct? In the final analysis, \\\"National Treasure\\\" isn't great film making, so much as it's a patchwork rehash of tired old bits from other movies, woven together from scraps, the likes of which would make IL' Betsy Ross blush.<br /><br />The Buena Vista DVD delivers a far more generous treatment than this film is deserving of. The anamorphic widescreen picture exhibits a very smooth and finely detailed image with very rich colors, natural flesh tones, solid blacks and clean whites. The stylized image is also free of blemishes and digital enhancements. The audio is 5.1 and delivers a nice sonic boom to your side and rear speakers with intensity and realism. Extras include a host of promotional junket material that is rather deep and over the top in its explanation of how and why this film was made. If only, as an audience, we had had more clarification as to why Ben and co. were chasing after an illusive treasure, this might have been one good flick. Extras conclude with the theatrical trailer, audio commentary and deleted scenes. Not for the faint-hearted \\u00c2\\u0096 just the thick-headed.\"\n        ],\n        \"semantic_type\": \"\",\n        \"description\": \"\"\n      }\n    },\n    {\n      \"column\": \"sentiment\",\n      \"properties\": {\n        \"dtype\": \"category\",\n        \"num_unique_values\": 2,\n        \"samples\": [\n          \"negative\",\n          \"positive\"\n        ],\n        \"semantic_type\": \"\",\n        \"description\": \"\"\n      }\n    }\n  ]\n}"
            }
          },
          "metadata": {},
          "execution_count": 4
        }
      ]
    },
    {
      "cell_type": "code",
      "source": [
        "df.shape"
      ],
      "metadata": {
        "colab": {
          "base_uri": "https://localhost:8080/"
        },
        "id": "IZJP3BYEHAF0",
        "outputId": "74c39061-6192-4779-bed6-7da10dcd7777"
      },
      "execution_count": null,
      "outputs": [
        {
          "output_type": "execute_result",
          "data": {
            "text/plain": [
              "(50000, 2)"
            ]
          },
          "metadata": {},
          "execution_count": 5
        }
      ]
    },
    {
      "cell_type": "markdown",
      "source": [
        "We have to create a sentiment analysis based on the review so we are able to predict given review is positive or negative.\n",
        "\n",
        "* Data gather\n",
        "* Cleaning\n",
        "    \n",
        "    1. lowercasing\n",
        "    2. removing leading and trailing spaces\n",
        "    3. removing html tags\n",
        "    4. removing urls\n",
        "    5. Expanding abbreviations\n",
        "    6. spelling correction\n",
        "    7. Puctuations\n",
        "    8. remove special characters\n",
        "\n",
        "* preprocessing\n",
        "    1. Tokenisation\n",
        "    2. Stopword removal\n",
        "    3. Steaming\n",
        "\n",
        "* EDA\n",
        "    1. distribution of text length/word count\n",
        "    2. common unigrams/bigrams/trigrams\n",
        "    3. Wordcloud\n",
        "\n",
        "* Make features\n",
        "    1. No_of_words\n",
        "\n",
        "* vectorization\n",
        "    1. Bag of words\n",
        "    2. TfIdf\n",
        "    3. word2web\n",
        "\n",
        "* Additionals\n",
        "    1. PCA\n",
        "    2. Stemming\n",
        "    3. POS tagging\n",
        "\n",
        "* modeling\n",
        "\n",
        "* Evalation\n",
        "\n",
        "* Deploy\n",
        "\n",
        "* Monitor"
      ],
      "metadata": {
        "id": "vmqhwap_Hn0w"
      }
    },
    {
      "cell_type": "code",
      "source": [
        "df.info()"
      ],
      "metadata": {
        "colab": {
          "base_uri": "https://localhost:8080/"
        },
        "id": "z0SdoHqeHAIV",
        "outputId": "74d6547d-9302-4645-9356-a59dfc0c42d1"
      },
      "execution_count": null,
      "outputs": [
        {
          "output_type": "stream",
          "name": "stdout",
          "text": [
            "<class 'pandas.core.frame.DataFrame'>\n",
            "RangeIndex: 50000 entries, 0 to 49999\n",
            "Data columns (total 2 columns):\n",
            " #   Column     Non-Null Count  Dtype \n",
            "---  ------     --------------  ----- \n",
            " 0   review     50000 non-null  object\n",
            " 1   sentiment  50000 non-null  object\n",
            "dtypes: object(2)\n",
            "memory usage: 781.4+ KB\n"
          ]
        }
      ]
    },
    {
      "cell_type": "code",
      "source": [
        "df.isnull().sum()"
      ],
      "metadata": {
        "colab": {
          "base_uri": "https://localhost:8080/"
        },
        "id": "3Pr56SWhHALL",
        "outputId": "9f2ed7ba-a185-49f6-e588-7869c537de06"
      },
      "execution_count": null,
      "outputs": [
        {
          "output_type": "execute_result",
          "data": {
            "text/plain": [
              "review       0\n",
              "sentiment    0\n",
              "dtype: int64"
            ]
          },
          "metadata": {},
          "execution_count": 7
        }
      ]
    },
    {
      "cell_type": "code",
      "source": [
        "df.duplicated().sum()"
      ],
      "metadata": {
        "colab": {
          "base_uri": "https://localhost:8080/"
        },
        "id": "VeUWScMkHANx",
        "outputId": "a7650bcc-3adc-4da7-cc2f-d1b8bb33bc57"
      },
      "execution_count": null,
      "outputs": [
        {
          "output_type": "execute_result",
          "data": {
            "text/plain": [
              "418"
            ]
          },
          "metadata": {},
          "execution_count": 8
        }
      ]
    },
    {
      "cell_type": "code",
      "source": [
        "df = df.drop_duplicates()"
      ],
      "metadata": {
        "id": "4T79h9BgMUO1"
      },
      "execution_count": null,
      "outputs": []
    },
    {
      "cell_type": "code",
      "source": [
        "df.info()"
      ],
      "metadata": {
        "colab": {
          "base_uri": "https://localhost:8080/"
        },
        "id": "qgbRUX-_MX0x",
        "outputId": "c5639959-1ca2-45a7-afe6-9f6fbf65b0d7"
      },
      "execution_count": null,
      "outputs": [
        {
          "output_type": "stream",
          "name": "stdout",
          "text": [
            "<class 'pandas.core.frame.DataFrame'>\n",
            "Index: 49582 entries, 0 to 49999\n",
            "Data columns (total 2 columns):\n",
            " #   Column     Non-Null Count  Dtype \n",
            "---  ------     --------------  ----- \n",
            " 0   review     49582 non-null  object\n",
            " 1   sentiment  49582 non-null  object\n",
            "dtypes: object(2)\n",
            "memory usage: 1.1+ MB\n"
          ]
        }
      ]
    },
    {
      "cell_type": "markdown",
      "source": [
        "# Cleaning\n",
        "lower()"
      ],
      "metadata": {
        "id": "sqtpte1WM_SQ"
      }
    },
    {
      "cell_type": "code",
      "source": [
        "df['review'] = df['review'].str.lower()"
      ],
      "metadata": {
        "id": "4uIm6fzCMdfF"
      },
      "execution_count": null,
      "outputs": []
    },
    {
      "cell_type": "markdown",
      "source": [
        "removing leading and trailing spaces"
      ],
      "metadata": {
        "id": "3ABqzvz6NOR8"
      }
    },
    {
      "cell_type": "code",
      "source": [
        "df.info()"
      ],
      "metadata": {
        "colab": {
          "base_uri": "https://localhost:8080/"
        },
        "id": "uDfGEJnqNaxv",
        "outputId": "6e75fa30-9d6d-4f42-e105-4ff39305d211"
      },
      "execution_count": null,
      "outputs": [
        {
          "output_type": "stream",
          "name": "stdout",
          "text": [
            "<class 'pandas.core.frame.DataFrame'>\n",
            "Index: 49582 entries, 0 to 49999\n",
            "Data columns (total 2 columns):\n",
            " #   Column     Non-Null Count  Dtype \n",
            "---  ------     --------------  ----- \n",
            " 0   review     49582 non-null  object\n",
            " 1   sentiment  49582 non-null  object\n",
            "dtypes: object(2)\n",
            "memory usage: 1.1+ MB\n"
          ]
        }
      ]
    },
    {
      "cell_type": "code",
      "source": [
        "# Remove white space\n",
        "df['review'] = df['review'].str.strip()"
      ],
      "metadata": {
        "id": "uwv8BlQaNFa-"
      },
      "execution_count": null,
      "outputs": []
    },
    {
      "cell_type": "code",
      "source": [
        "# Remove HTML tags\n",
        "import re\n",
        "def remove_html(text):\n",
        "  data = re.sub(r'<.*?>', '', text)\n",
        "  return data"
      ],
      "metadata": {
        "id": "IxvTQtIPNWXs"
      },
      "execution_count": null,
      "outputs": []
    },
    {
      "cell_type": "code",
      "source": [
        "df['review'] = df['review'].apply(remove_html)"
      ],
      "metadata": {
        "id": "nSZQzQ35ORku"
      },
      "execution_count": null,
      "outputs": []
    },
    {
      "cell_type": "code",
      "source": [
        "df['review'].str.replace(r'<.*?>', '') # use this"
      ],
      "metadata": {
        "colab": {
          "base_uri": "https://localhost:8080/"
        },
        "id": "PAx2j1VzOmRo",
        "outputId": "1efe6623-acc4-47e3-b148-af685bfb2bf9"
      },
      "execution_count": null,
      "outputs": [
        {
          "output_type": "execute_result",
          "data": {
            "text/plain": [
              "0        one of the other reviewers has mentioned that ...\n",
              "1        a wonderful little production. the filming tec...\n",
              "2        i thought this was a wonderful way to spend ti...\n",
              "3        basically there's a family where a little boy ...\n",
              "4        petter mattei's \"love in the time of money\" is...\n",
              "                               ...                        \n",
              "49995    i thought this movie did a down right good job...\n",
              "49996    bad plot, bad dialogue, bad acting, idiotic di...\n",
              "49997    i am a catholic taught in parochial elementary...\n",
              "49998    i'm going to have to disagree with the previou...\n",
              "49999    no one expects the star trek movies to be high...\n",
              "Name: review, Length: 49582, dtype: object"
            ]
          },
          "metadata": {},
          "execution_count": 16
        }
      ]
    },
    {
      "cell_type": "code",
      "source": [
        "# remove urls\n",
        "def remove_url(text):\n",
        "  data = re.sub(r'https?://\\S+|www\\.\\S+', '', text)\n",
        "  return data"
      ],
      "metadata": {
        "id": "nLyplH5CO_lK"
      },
      "execution_count": null,
      "outputs": []
    },
    {
      "cell_type": "code",
      "source": [
        "df['review'].apply(remove_url)"
      ],
      "metadata": {
        "colab": {
          "base_uri": "https://localhost:8080/"
        },
        "id": "HkRwT_sfPzi4",
        "outputId": "5149406b-e46e-4cdd-de3b-024b50c2ed1c"
      },
      "execution_count": null,
      "outputs": [
        {
          "output_type": "execute_result",
          "data": {
            "text/plain": [
              "0        one of the other reviewers has mentioned that ...\n",
              "1        a wonderful little production. the filming tec...\n",
              "2        i thought this was a wonderful way to spend ti...\n",
              "3        basically there's a family where a little boy ...\n",
              "4        petter mattei's \"love in the time of money\" is...\n",
              "                               ...                        \n",
              "49995    i thought this movie did a down right good job...\n",
              "49996    bad plot, bad dialogue, bad acting, idiotic di...\n",
              "49997    i am a catholic taught in parochial elementary...\n",
              "49998    i'm going to have to disagree with the previou...\n",
              "49999    no one expects the star trek movies to be high...\n",
              "Name: review, Length: 49582, dtype: object"
            ]
          },
          "metadata": {},
          "execution_count": 18
        }
      ]
    },
    {
      "cell_type": "code",
      "source": [
        "df['review'].str.replace(r'https?://\\S+|www\\.\\S+', '')"
      ],
      "metadata": {
        "colab": {
          "base_uri": "https://localhost:8080/"
        },
        "id": "JpluZp7aP3m0",
        "outputId": "f066bf49-6856-4f47-fce7-c91c02ee7ddb"
      },
      "execution_count": null,
      "outputs": [
        {
          "output_type": "execute_result",
          "data": {
            "text/plain": [
              "0        one of the other reviewers has mentioned that ...\n",
              "1        a wonderful little production. the filming tec...\n",
              "2        i thought this was a wonderful way to spend ti...\n",
              "3        basically there's a family where a little boy ...\n",
              "4        petter mattei's \"love in the time of money\" is...\n",
              "                               ...                        \n",
              "49995    i thought this movie did a down right good job...\n",
              "49996    bad plot, bad dialogue, bad acting, idiotic di...\n",
              "49997    i am a catholic taught in parochial elementary...\n",
              "49998    i'm going to have to disagree with the previou...\n",
              "49999    no one expects the star trek movies to be high...\n",
              "Name: review, Length: 49582, dtype: object"
            ]
          },
          "metadata": {},
          "execution_count": 19
        }
      ]
    },
    {
      "cell_type": "code",
      "source": [
        "df['review'][df['review'].str.contains(r'https?://\\S+|www\\.\\S+', '')]"
      ],
      "metadata": {
        "colab": {
          "base_uri": "https://localhost:8080/"
        },
        "id": "qL0bF9nmQQAU",
        "outputId": "0ed65023-b671-4a37-bec0-28fd6a87a58f"
      },
      "execution_count": null,
      "outputs": [
        {
          "output_type": "execute_result",
          "data": {
            "text/plain": [
              "742      mario lewis of the competitive enterprise inst...\n",
              "907      following directly from where the story left o...\n",
              "1088     this quasi j-horror film followed a young woma...\n",
              "1137     i really think i should make my case and have ...\n",
              "1141     this show has to be my favorite out of all the...\n",
              "                               ...                        \n",
              "48887    trite and unoriginal. it's like someone watche...\n",
              "49063    trick or treat, quickie review this zany romp ...\n",
              "49596    this is absolutely the best 80s cartoon ever, ...\n",
              "49637    if you liked the richard chamberlain version o...\n",
              "49951    \"scientists at a remote lab experiment on (ins...\n",
              "Name: review, Length: 194, dtype: object"
            ]
          },
          "metadata": {},
          "execution_count": 20
        }
      ]
    },
    {
      "cell_type": "code",
      "source": [
        "# Code to remove all the URLs\n",
        "df['review'] = df['review'].str.replace(r'https?://\\S+|www\\.\\S+', '', regex=True)\n"
      ],
      "metadata": {
        "id": "WBkqKdgaQeD2"
      },
      "execution_count": null,
      "outputs": []
    },
    {
      "cell_type": "code",
      "source": [
        "!pip install contractions"
      ],
      "metadata": {
        "colab": {
          "base_uri": "https://localhost:8080/"
        },
        "id": "CKiTJbL0lKf7",
        "outputId": "aba569d1-d381-4e79-a33b-5525e1749500"
      },
      "execution_count": null,
      "outputs": [
        {
          "output_type": "stream",
          "name": "stdout",
          "text": [
            "Collecting contractions\n",
            "  Downloading contractions-0.1.73-py2.py3-none-any.whl (8.7 kB)\n",
            "Collecting textsearch>=0.0.21 (from contractions)\n",
            "  Downloading textsearch-0.0.24-py2.py3-none-any.whl (7.6 kB)\n",
            "Collecting anyascii (from textsearch>=0.0.21->contractions)\n",
            "  Downloading anyascii-0.3.2-py3-none-any.whl (289 kB)\n",
            "\u001b[2K     \u001b[90m━━━━━━━━━━━━━━━━━━━━━━━━━━━━━━━━━━━━━━━━\u001b[0m \u001b[32m289.9/289.9 kB\u001b[0m \u001b[31m8.7 MB/s\u001b[0m eta \u001b[36m0:00:00\u001b[0m\n",
            "\u001b[?25hCollecting pyahocorasick (from textsearch>=0.0.21->contractions)\n",
            "  Downloading pyahocorasick-2.1.0-cp310-cp310-manylinux_2_5_x86_64.manylinux1_x86_64.manylinux_2_12_x86_64.manylinux2010_x86_64.whl (110 kB)\n",
            "\u001b[2K     \u001b[90m━━━━━━━━━━━━━━━━━━━━━━━━━━━━━━━━━━━━━━━━\u001b[0m \u001b[32m110.7/110.7 kB\u001b[0m \u001b[31m11.9 MB/s\u001b[0m eta \u001b[36m0:00:00\u001b[0m\n",
            "\u001b[?25hInstalling collected packages: pyahocorasick, anyascii, textsearch, contractions\n",
            "Successfully installed anyascii-0.3.2 contractions-0.1.73 pyahocorasick-2.1.0 textsearch-0.0.24\n"
          ]
        }
      ]
    },
    {
      "cell_type": "code",
      "source": [
        "# Expanding abbreviation\n",
        "import contractions\n",
        "def expand_contractions(text):\n",
        "  data = contractions.fix(text)\n",
        "  return data\n"
      ],
      "metadata": {
        "id": "80N_BIqhRSEO"
      },
      "execution_count": null,
      "outputs": []
    },
    {
      "cell_type": "code",
      "source": [
        "df['review'] = df['review'].apply(expand_contractions)"
      ],
      "metadata": {
        "id": "PT_6N4AhSdbE"
      },
      "execution_count": null,
      "outputs": []
    },
    {
      "cell_type": "code",
      "source": [
        "expand_contractions(\"I don't know\")"
      ],
      "metadata": {
        "colab": {
          "base_uri": "https://localhost:8080/",
          "height": 36
        },
        "id": "P4XaJa4wTyaQ",
        "outputId": "e6dd766f-e962-4cf1-f5e5-65763974135a"
      },
      "execution_count": null,
      "outputs": [
        {
          "output_type": "execute_result",
          "data": {
            "text/plain": [
              "'I do not know'"
            ],
            "application/vnd.google.colaboratory.intrinsic+json": {
              "type": "string"
            }
          },
          "metadata": {},
          "execution_count": 25
        }
      ]
    },
    {
      "cell_type": "code",
      "source": [
        "def remove_abb(data):\n",
        "    data = re.sub(r\"he's\", \"he is\", data)\n",
        "    data = re.sub(r\"there's\", \"there is\", data)\n",
        "    data = re.sub(r\"We're\", \"We are\", data)\n",
        "    data = re.sub(r\"That's\", \"That is\", data)\n",
        "    data = re.sub(r\"won't\", \"will not\", data)\n",
        "    data = re.sub(r\"they're\", \"they are\", data)\n",
        "    data = re.sub(r\"Can't\", \"Cannot\", data)\n",
        "    data = re.sub(r\"wasn't\", \"was not\", data)\n",
        "    data = re.sub(r\"don\\x89Ûªt\", \"do not\", data)\n",
        "    data= re.sub(r\"aren't\", \"are not\", data)\n",
        "    data = re.sub(r\"isn't\", \"is not\", data)\n",
        "    data = re.sub(r\"What's\", \"What is\", data)\n",
        "    data = re.sub(r\"haven't\", \"have not\", data)\n",
        "    data = re.sub(r\"hasn't\", \"has not\", data)\n",
        "    data = re.sub(r\"There's\", \"There is\", data)\n",
        "    data = re.sub(r\"He's\", \"He is\", data)\n",
        "    data = re.sub(r\"It's\", \"It is\", data)\n",
        "    data = re.sub(r\"You're\", \"You are\", data)\n",
        "    data = re.sub(r\"I'M\", \"I am\", data)\n",
        "    data = re.sub(r\"shouldn't\", \"should not\", data)\n",
        "    data = re.sub(r\"wouldn't\", \"would not\", data)\n",
        "    data = re.sub(r\"i'm\", \"I am\", data)\n",
        "    data = re.sub(r\"I\\x89Ûªm\", \"I am\", data)\n",
        "    data = re.sub(r\"I'm\", \"I am\", data)\n",
        "    data = re.sub(r\"Isn't\", \"is not\", data)\n",
        "    data = re.sub(r\"Here's\", \"Here is\", data)\n",
        "    data = re.sub(r\"you've\", \"you have\", data)\n",
        "    data = re.sub(r\"you\\x89Ûªve\", \"you have\", data)\n",
        "    data = re.sub(r\"we're\", \"we are\", data)\n",
        "    data = re.sub(r\"what's\", \"what is\", data)\n",
        "    data = re.sub(r\"couldn't\", \"could not\", data)\n",
        "    data = re.sub(r\"we've\", \"we have\", data)\n",
        "    data = re.sub(r\"it\\x89Ûªs\", \"it is\", data)\n",
        "    data = re.sub(r\"doesn\\x89Ûªt\", \"does not\", data)\n",
        "    data = re.sub(r\"It\\x89Ûªs\", \"It is\", data)\n",
        "    data = re.sub(r\"Here\\x89Ûªs\", \"Here is\", data)\n",
        "    data = re.sub(r\"who's\", \"who is\", data)\n",
        "    data = re.sub(r\"I\\x89Ûªve\", \"I have\", data)\n",
        "    data = re.sub(r\"y'all\", \"you all\", data)\n",
        "    data = re.sub(r\"can\\x89Ûªt\", \"cannot\", data)\n",
        "    data = re.sub(r\"would've\", \"would have\", data)\n",
        "    data = re.sub(r\"it'll\", \"it will\", data)\n",
        "    data = re.sub(r\"we'll\", \"we will\", data)\n",
        "    data = re.sub(r\"wouldn\\x89Ûªt\", \"would not\", data)\n",
        "    data = re.sub(r\"We've\", \"We have\", data)\n",
        "    data = re.sub(r\"he'll\", \"he will\", data)\n",
        "    data = re.sub(r\"Y'all\", \"You all\", data)\n",
        "    data = re.sub(r\"Weren't\", \"Were not\", data)\n",
        "    data = re.sub(r\"Didn't\", \"Did not\", data)\n",
        "    data = re.sub(r\"they'll\", \"they will\", data)\n",
        "    data = re.sub(r\"they'd\", \"they would\", data)\n",
        "    data = re.sub(r\"DON'T\", \"DO NOT\", data)\n",
        "    data = re.sub(r\"That\\x89Ûªs\", \"That is\", data)\n",
        "    data = re.sub(r\"they've\", \"they have\", data)\n",
        "    data = re.sub(r\"i'd\", \"I would\", data)\n",
        "    data = re.sub(r\"should've\", \"should have\", data)\n",
        "    data = re.sub(r\"You\\x89Ûªre\", \"You are\", data)\n",
        "    data = re.sub(r\"where's\", \"where is\", data)\n",
        "    data = re.sub(r\"Don\\x89Ûªt\", \"Do not\", data)\n",
        "    data = re.sub(r\"we'd\", \"we would\", data)\n",
        "    data = re.sub(r\"i'll\", \"I will\", data)\n",
        "    data = re.sub(r\"weren't\", \"were not\", data)\n",
        "    data = re.sub(r\"They're\", \"They are\", data)\n",
        "    data = re.sub(r\"Can\\x89Ûªt\", \"Cannot\", data)\n",
        "    data = re.sub(r\"you\\x89Ûªll\", \"you will\", data)\n",
        "    data = re.sub(r\"I\\x89Ûªd\", \"I would\", data)\n",
        "    data = re.sub(r\"let's\", \"let us\", data)\n",
        "    data = re.sub(r\"it's\", \"it is\", data)\n",
        "    data = re.sub(r\"can't\", \"cannot\", data)\n",
        "    data = re.sub(r\"don't\", \"do not\", data)\n",
        "    data = re.sub(r\"you're\", \"you are\", data)\n",
        "    data = re.sub(r\"i've\", \"I have\", data)\n",
        "    data = re.sub(r\"that's\", \"that is\", data)\n",
        "    data = re.sub(r\"i'll\", \"I will\", data)\n",
        "    data = re.sub(r\"doesn't\", \"does not\",data)\n",
        "    data = re.sub(r\"i'd\", \"I would\", data)\n",
        "    data = re.sub(r\"didn't\", \"did not\", data)\n",
        "    data = re.sub(r\"ain't\", \"am not\", data)\n",
        "    data = re.sub(r\"you'll\", \"you will\", data)\n",
        "    data = re.sub(r\"I've\", \"I have\", data)\n",
        "    data = re.sub(r\"Don't\", \"do not\", data)\n",
        "    data = re.sub(r\"I'll\", \"I will\", data)\n",
        "    data = re.sub(r\"I'd\", \"I would\", data)\n",
        "    data = re.sub(r\"Let's\", \"Let us\", data)\n",
        "    data = re.sub(r\"you'd\", \"You would\", data)\n",
        "    data = re.sub(r\"It's\", \"It is\", data)\n",
        "    data = re.sub(r\"Ain't\", \"am not\", data)\n",
        "    data = re.sub(r\"Haven't\", \"Have not\", data)\n",
        "    data = re.sub(r\"Could've\", \"Could have\", data)\n",
        "    data = re.sub(r\"youve\", \"you have\", data)\n",
        "    data = re.sub(r\"donå«t\", \"do not\", data)\n",
        "\n",
        "    return data"
      ],
      "metadata": {
        "id": "VsLkPMUuT7GN"
      },
      "execution_count": null,
      "outputs": []
    },
    {
      "cell_type": "code",
      "source": [
        "df['review']"
      ],
      "metadata": {
        "colab": {
          "base_uri": "https://localhost:8080/"
        },
        "id": "gkzf7PjkUZyN",
        "outputId": "c3769171-6610-4a84-9cc3-272011de34c9"
      },
      "execution_count": null,
      "outputs": [
        {
          "output_type": "execute_result",
          "data": {
            "text/plain": [
              "0        one of the other reviewers has mentioned that ...\n",
              "1        a wonderful little production. the filming tec...\n",
              "2        i thought this was a wonderful way to spend ti...\n",
              "3        basically there is a family where a little boy...\n",
              "4        petter mattei's \"love in the time of money\" is...\n",
              "                               ...                        \n",
              "49995    i thought this movie did a down right good job...\n",
              "49996    bad plot, bad dialogue, bad acting, idiotic di...\n",
              "49997    i am a catholic taught in parochial elementary...\n",
              "49998    i am going to have to disagree with the previo...\n",
              "49999    no one expects the star trek movies to be high...\n",
              "Name: review, Length: 49582, dtype: object"
            ]
          },
          "metadata": {},
          "execution_count": 27
        }
      ]
    },
    {
      "cell_type": "code",
      "source": [
        "# spelling correction\n",
        "from textblob import TextBlob\n",
        "\n",
        "def correct_spellings(text):\n",
        "  return TextBlob(text).correct().string"
      ],
      "metadata": {
        "id": "ZSTzn-NXUiGT"
      },
      "execution_count": null,
      "outputs": []
    },
    {
      "cell_type": "code",
      "source": [
        "df['review'] = df['review'].apply(correct_spellings)"
      ],
      "metadata": {
        "id": "zpx2t_V9VGYd"
      },
      "execution_count": null,
      "outputs": []
    },
    {
      "cell_type": "code",
      "source": [
        "# puctuations\n",
        "import string\n",
        "string.punctuation"
      ],
      "metadata": {
        "id": "1006B9lzVIfV"
      },
      "execution_count": null,
      "outputs": []
    },
    {
      "cell_type": "code",
      "source": [
        "def remove_puctuations(text):\n",
        "\n",
        "  for i in string.punctuation:\n",
        "    if i in text:\n",
        "      text = text.replace(i, ' ')\n",
        "\n",
        "  return text"
      ],
      "metadata": {
        "id": "mOOY24ngVsza"
      },
      "execution_count": null,
      "outputs": []
    },
    {
      "cell_type": "code",
      "source": [
        "remove_puctuations('Hi, how are you?')"
      ],
      "metadata": {
        "id": "aTsC3gzpiHYk"
      },
      "execution_count": null,
      "outputs": []
    },
    {
      "cell_type": "code",
      "source": [
        "df['review'] = df['review'].apply(remove_puctuations)"
      ],
      "metadata": {
        "id": "X8zFvvgQiKku"
      },
      "execution_count": null,
      "outputs": []
    },
    {
      "cell_type": "code",
      "source": [
        "# remove special characters\n",
        "# '['^\\w\\s]'\n",
        "df['review'] = df['review'].str.replace('[^\\w\\s]', '')"
      ],
      "metadata": {
        "id": "dz0o9QBMiNKq"
      },
      "execution_count": null,
      "outputs": []
    },
    {
      "cell_type": "markdown",
      "source": [
        "## Preprocessing\n"
      ],
      "metadata": {
        "id": "C9qyo6CYjICq"
      }
    },
    {
      "cell_type": "code",
      "source": [
        "# tokenization\n",
        "\n",
        "from nltk.tokenize import word_tokenize"
      ],
      "metadata": {
        "id": "vg7k9hU0i2ej"
      },
      "execution_count": null,
      "outputs": []
    },
    {
      "cell_type": "code",
      "source": [
        "import nltk\n",
        "nltk.download('punkt')\n"
      ],
      "metadata": {
        "id": "bGy4Jh0PkRje"
      },
      "execution_count": null,
      "outputs": []
    },
    {
      "cell_type": "code",
      "source": [
        "from nltk.tokenize import word_tokenize\n",
        "\n",
        "# Assuming df is your DataFrame and 'review' is the column you want to tokenize\n",
        "df['tokenized_review'] = df['review'].apply(word_tokenize)\n"
      ],
      "metadata": {
        "id": "PfkyCkcYj6wz"
      },
      "execution_count": null,
      "outputs": []
    },
    {
      "cell_type": "code",
      "source": [
        "# removing stopwords\n",
        "import nltk\n",
        "nltk.download('stopwords')"
      ],
      "metadata": {
        "id": "BNkVtnchjPuE"
      },
      "execution_count": null,
      "outputs": []
    },
    {
      "cell_type": "code",
      "source": [
        "from nltk.corpus import stopwords\n",
        "stop_words = set(stopwords.words('english'))"
      ],
      "metadata": {
        "id": "6uzDuaUCjSCN"
      },
      "execution_count": null,
      "outputs": []
    },
    {
      "cell_type": "code",
      "source": [
        "stop_words"
      ],
      "metadata": {
        "id": "6zPHMxMcmUsd"
      },
      "execution_count": null,
      "outputs": []
    },
    {
      "cell_type": "code",
      "source": [
        "def remove_stopwords(text):\n",
        "  l = []\n",
        "  for i in text:\n",
        "    if i not in stop_words:\n",
        "      l.append(i)\n",
        "\n",
        "  return l\n"
      ],
      "metadata": {
        "id": "_lUhoheklv0S"
      },
      "execution_count": null,
      "outputs": []
    },
    {
      "cell_type": "code",
      "source": [
        "remove_stopwords(['Hi', 'how', \"are\",  'you?'])"
      ],
      "metadata": {
        "id": "ce2kCN5DmJ8O"
      },
      "execution_count": null,
      "outputs": []
    },
    {
      "cell_type": "code",
      "source": [
        "df['tokenized_review'] = df['tokenized_review'].apply(remove_stopwords)\n"
      ],
      "metadata": {
        "id": "v_he5FkdmM5X"
      },
      "execution_count": null,
      "outputs": []
    },
    {
      "cell_type": "code",
      "source": [
        "df"
      ],
      "metadata": {
        "id": "fyltLL7Gm6Y5"
      },
      "execution_count": null,
      "outputs": []
    },
    {
      "cell_type": "markdown",
      "source": [
        "# EDA and Feature Engineering"
      ],
      "metadata": {
        "id": "HBoooQ89nKyn"
      }
    },
    {
      "cell_type": "code",
      "source": [
        "# distribution of text length / word count\n",
        "print('hii')"
      ],
      "metadata": {
        "id": "pPyq9Y2dm7IP"
      },
      "execution_count": null,
      "outputs": []
    },
    {
      "cell_type": "code",
      "source": [
        "df['tokenized_review'] = df['tokenized_review'].apply(remove_stopwords)"
      ],
      "metadata": {
        "id": "LReq8Q_Gnzks"
      },
      "execution_count": null,
      "outputs": []
    },
    {
      "cell_type": "markdown",
      "source": [
        "character length could be a feature or no. of words and sentence"
      ],
      "metadata": {
        "id": "KqiTA8joomwC"
      }
    },
    {
      "cell_type": "code",
      "source": [
        "df['review'] = df['tokenized_review'].apply(lambda x:\" \".join(x))"
      ],
      "metadata": {
        "id": "U47R7fgUo6KL"
      },
      "execution_count": null,
      "outputs": []
    },
    {
      "cell_type": "code",
      "source": [
        "df['char_length'] = df['review'].str.len()"
      ],
      "metadata": {
        "id": "kcLGIYl8pAod"
      },
      "execution_count": null,
      "outputs": []
    },
    {
      "cell_type": "code",
      "source": [
        "df.head()"
      ],
      "metadata": {
        "id": "dDe-CNDZpTHR"
      },
      "execution_count": null,
      "outputs": []
    },
    {
      "cell_type": "code",
      "source": [
        "df['word_length'] = df['tokenized_review'].apply(len)"
      ],
      "metadata": {
        "id": "qgAVFG67pErN"
      },
      "execution_count": null,
      "outputs": []
    },
    {
      "cell_type": "code",
      "source": [
        "import seaborn as sns"
      ],
      "metadata": {
        "id": "-afdobDXpPKs"
      },
      "execution_count": null,
      "outputs": []
    },
    {
      "cell_type": "code",
      "source": [
        "sns.displot(df['char_length'])"
      ],
      "metadata": {
        "id": "JJdV-jKtpfmI"
      },
      "execution_count": null,
      "outputs": []
    },
    {
      "cell_type": "code",
      "source": [
        "sns.displot(df[df['sentiment'] == 'positive']['char_length'])\n",
        "sns.displot(df[df['sentiment'] == 'negative']['char_length'])"
      ],
      "metadata": {
        "id": "ndBEfccbp6Fw"
      },
      "execution_count": null,
      "outputs": []
    },
    {
      "cell_type": "code",
      "source": [
        "sns.displot(df['word_length'])"
      ],
      "metadata": {
        "id": "88Tu20XVpncO"
      },
      "execution_count": null,
      "outputs": []
    },
    {
      "cell_type": "code",
      "source": [
        "sns.displot(df[df['sentiment'] == 'positive']['word_length'])\n",
        "sns.displot(df[df['sentiment'] == 'negative']['word_length'])"
      ],
      "metadata": {
        "id": "81mGaW1sp0g_"
      },
      "execution_count": null,
      "outputs": []
    },
    {
      "cell_type": "code",
      "source": [
        "from nltk import ngrams"
      ],
      "metadata": {
        "id": "hsbJyRCNqjNY"
      },
      "execution_count": null,
      "outputs": []
    },
    {
      "cell_type": "code",
      "source": [
        "df['tokenized_review']"
      ],
      "metadata": {
        "id": "GkbtvSnarqji"
      },
      "execution_count": null,
      "outputs": []
    },
    {
      "cell_type": "code",
      "source": [
        "pd.Series(ngrams(df['tokenized_review'], 2)).value_counts()"
      ],
      "metadata": {
        "id": "w_ePD8CoruuF"
      },
      "execution_count": null,
      "outputs": []
    },
    {
      "cell_type": "code",
      "source": [
        "pd.Series(ngrams(df['tokenized_review'].sum(), 2)).value_counts()"
      ],
      "metadata": {
        "id": "5C2DrHH0r5iG"
      },
      "execution_count": null,
      "outputs": []
    }
  ]
}